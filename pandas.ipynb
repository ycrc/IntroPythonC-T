{
 "cells": [
  {
   "cell_type": "markdown",
   "metadata": {
    "deletable": true,
    "editable": true
   },
   "source": [
    "## Import modules"
   ]
  },
  {
   "cell_type": "code",
   "execution_count": 1,
   "metadata": {
    "collapsed": true,
    "deletable": true,
    "editable": true
   },
   "outputs": [],
   "source": [
    "import pandas as pd\n",
    "import numpy as np"
   ]
  },
  {
   "cell_type": "markdown",
   "metadata": {
    "deletable": true,
    "editable": true
   },
   "source": [
    "## Create DataFrame from Numpy Array"
   ]
  },
  {
   "cell_type": "code",
   "execution_count": 2,
   "metadata": {
    "collapsed": false,
    "deletable": true,
    "editable": true
   },
   "outputs": [
    {
     "data": {
      "text/plain": [
       "array([[  3.30000000e-01,   4.87900000e+03,   3.70000000e+00,\n",
       "          8.80000000e+01],\n",
       "       [  4.87000000e+00,   1.21040000e+04,   8.90000000e+00,\n",
       "          2.24700000e+02],\n",
       "       [  5.97000000e+00,   1.27560000e+04,   9.80000000e+00,\n",
       "          3.65200000e+02],\n",
       "       [  6.42000000e-01,   6.79200000e+03,   3.70000000e+00,\n",
       "          6.87000000e+02],\n",
       "       [  1.89800000e+03,   1.42984000e+05,   2.31000000e+01,\n",
       "          4.33100000e+03],\n",
       "       [  5.68000000e+02,   1.20536000e+05,   9.00000000e+00,\n",
       "          1.07470000e+04],\n",
       "       [  8.68000000e+01,   5.11180000e+04,   8.70000000e+00,\n",
       "          3.05890000e+04],\n",
       "       [  1.02000000e+02,   4.95280000e+04,   1.10000000e+01,\n",
       "          5.98000000e+04]])"
      ]
     },
     "execution_count": 2,
     "metadata": {},
     "output_type": "execute_result"
    }
   ],
   "source": [
    "planets_array = np.array([[0.330, 4879, 3.7, 88.0],\n",
    "            [4.87, 12104, 8.9, 224.7],\n",
    "            [5.97, 12756, 9.8, 365.2 ],\n",
    "            [0.642, 6792, 3.7, 687.0],\n",
    "            [1898, 142984, 23.1, 4331],\n",
    "            [568, 120536, 9.0, 10747],\n",
    "            [86.8, 51118, 8.7, 30589],\n",
    "            [102, 49528, 11.0, 59800]])\n",
    "\n",
    "planets_array"
   ]
  },
  {
   "cell_type": "code",
   "execution_count": 3,
   "metadata": {
    "collapsed": false,
    "deletable": true,
    "editable": true
   },
   "outputs": [
    {
     "data": {
      "text/html": [
       "<div>\n",
       "<table border=\"1\" class=\"dataframe\">\n",
       "  <thead>\n",
       "    <tr style=\"text-align: right;\">\n",
       "      <th></th>\n",
       "      <th>mass</th>\n",
       "      <th>diameter</th>\n",
       "      <th>gravity</th>\n",
       "      <th>period</th>\n",
       "    </tr>\n",
       "  </thead>\n",
       "  <tbody>\n",
       "    <tr>\n",
       "      <th>Mercury</th>\n",
       "      <td>0.330</td>\n",
       "      <td>4879.0</td>\n",
       "      <td>3.7</td>\n",
       "      <td>88.0</td>\n",
       "    </tr>\n",
       "    <tr>\n",
       "      <th>Venus</th>\n",
       "      <td>4.870</td>\n",
       "      <td>12104.0</td>\n",
       "      <td>8.9</td>\n",
       "      <td>224.7</td>\n",
       "    </tr>\n",
       "    <tr>\n",
       "      <th>Earth</th>\n",
       "      <td>5.970</td>\n",
       "      <td>12756.0</td>\n",
       "      <td>9.8</td>\n",
       "      <td>365.2</td>\n",
       "    </tr>\n",
       "    <tr>\n",
       "      <th>Mars</th>\n",
       "      <td>0.642</td>\n",
       "      <td>6792.0</td>\n",
       "      <td>3.7</td>\n",
       "      <td>687.0</td>\n",
       "    </tr>\n",
       "    <tr>\n",
       "      <th>Jupiter</th>\n",
       "      <td>1898.000</td>\n",
       "      <td>142984.0</td>\n",
       "      <td>23.1</td>\n",
       "      <td>4331.0</td>\n",
       "    </tr>\n",
       "    <tr>\n",
       "      <th>Saturn</th>\n",
       "      <td>568.000</td>\n",
       "      <td>120536.0</td>\n",
       "      <td>9.0</td>\n",
       "      <td>10747.0</td>\n",
       "    </tr>\n",
       "    <tr>\n",
       "      <th>Uranus</th>\n",
       "      <td>86.800</td>\n",
       "      <td>51118.0</td>\n",
       "      <td>8.7</td>\n",
       "      <td>30589.0</td>\n",
       "    </tr>\n",
       "    <tr>\n",
       "      <th>Neptune</th>\n",
       "      <td>102.000</td>\n",
       "      <td>49528.0</td>\n",
       "      <td>11.0</td>\n",
       "      <td>59800.0</td>\n",
       "    </tr>\n",
       "  </tbody>\n",
       "</table>\n",
       "</div>"
      ],
      "text/plain": [
       "             mass  diameter  gravity   period\n",
       "Mercury     0.330    4879.0      3.7     88.0\n",
       "Venus       4.870   12104.0      8.9    224.7\n",
       "Earth       5.970   12756.0      9.8    365.2\n",
       "Mars        0.642    6792.0      3.7    687.0\n",
       "Jupiter  1898.000  142984.0     23.1   4331.0\n",
       "Saturn    568.000  120536.0      9.0  10747.0\n",
       "Uranus     86.800   51118.0      8.7  30589.0\n",
       "Neptune   102.000   49528.0     11.0  59800.0"
      ]
     },
     "execution_count": 3,
     "metadata": {},
     "output_type": "execute_result"
    }
   ],
   "source": [
    "# data is shared between array and dataframe\n",
    "planets = pd.DataFrame(planets_array, \n",
    "                  columns=['mass', 'diameter', 'gravity', 'period'],\n",
    "                  index=['Mercury', 'Venus', 'Earth', 'Mars', 'Jupiter', 'Saturn','Uranus','Neptune'])\n",
    "planets"
   ]
  },
  {
   "cell_type": "markdown",
   "metadata": {
    "deletable": true,
    "editable": true
   },
   "source": [
    "## Get information about Data Frame"
   ]
  },
  {
   "cell_type": "code",
   "execution_count": 4,
   "metadata": {
    "collapsed": false,
    "deletable": true,
    "editable": true
   },
   "outputs": [
    {
     "data": {
      "text/plain": [
       "(8, 4)"
      ]
     },
     "execution_count": 4,
     "metadata": {},
     "output_type": "execute_result"
    }
   ],
   "source": [
    "planets.shape"
   ]
  },
  {
   "cell_type": "code",
   "execution_count": 5,
   "metadata": {
    "collapsed": false,
    "deletable": true,
    "editable": true
   },
   "outputs": [
    {
     "data": {
      "text/plain": [
       "mass        float64\n",
       "diameter    float64\n",
       "gravity     float64\n",
       "period      float64\n",
       "dtype: object"
      ]
     },
     "execution_count": 5,
     "metadata": {},
     "output_type": "execute_result"
    }
   ],
   "source": [
    "planets.dtypes"
   ]
  },
  {
   "cell_type": "code",
   "execution_count": 6,
   "metadata": {
    "collapsed": false,
    "deletable": true,
    "editable": true
   },
   "outputs": [
    {
     "data": {
      "text/html": [
       "<div>\n",
       "<table border=\"1\" class=\"dataframe\">\n",
       "  <thead>\n",
       "    <tr style=\"text-align: right;\">\n",
       "      <th></th>\n",
       "      <th>mass</th>\n",
       "      <th>diameter</th>\n",
       "      <th>gravity</th>\n",
       "      <th>period</th>\n",
       "    </tr>\n",
       "  </thead>\n",
       "  <tbody>\n",
       "    <tr>\n",
       "      <th>count</th>\n",
       "      <td>8.000000</td>\n",
       "      <td>8.000000</td>\n",
       "      <td>8.000000</td>\n",
       "      <td>8.000000</td>\n",
       "    </tr>\n",
       "    <tr>\n",
       "      <th>mean</th>\n",
       "      <td>333.326500</td>\n",
       "      <td>50087.125000</td>\n",
       "      <td>9.737500</td>\n",
       "      <td>13353.987500</td>\n",
       "    </tr>\n",
       "    <tr>\n",
       "      <th>std</th>\n",
       "      <td>660.538057</td>\n",
       "      <td>53916.366175</td>\n",
       "      <td>6.040089</td>\n",
       "      <td>21447.657907</td>\n",
       "    </tr>\n",
       "    <tr>\n",
       "      <th>min</th>\n",
       "      <td>0.330000</td>\n",
       "      <td>4879.000000</td>\n",
       "      <td>3.700000</td>\n",
       "      <td>88.000000</td>\n",
       "    </tr>\n",
       "    <tr>\n",
       "      <th>25%</th>\n",
       "      <td>3.813000</td>\n",
       "      <td>10776.000000</td>\n",
       "      <td>7.450000</td>\n",
       "      <td>330.075000</td>\n",
       "    </tr>\n",
       "    <tr>\n",
       "      <th>50%</th>\n",
       "      <td>46.385000</td>\n",
       "      <td>31142.000000</td>\n",
       "      <td>8.950000</td>\n",
       "      <td>2509.000000</td>\n",
       "    </tr>\n",
       "    <tr>\n",
       "      <th>75%</th>\n",
       "      <td>218.500000</td>\n",
       "      <td>68472.500000</td>\n",
       "      <td>10.100000</td>\n",
       "      <td>15707.500000</td>\n",
       "    </tr>\n",
       "    <tr>\n",
       "      <th>max</th>\n",
       "      <td>1898.000000</td>\n",
       "      <td>142984.000000</td>\n",
       "      <td>23.100000</td>\n",
       "      <td>59800.000000</td>\n",
       "    </tr>\n",
       "  </tbody>\n",
       "</table>\n",
       "</div>"
      ],
      "text/plain": [
       "              mass       diameter    gravity        period\n",
       "count     8.000000       8.000000   8.000000      8.000000\n",
       "mean    333.326500   50087.125000   9.737500  13353.987500\n",
       "std     660.538057   53916.366175   6.040089  21447.657907\n",
       "min       0.330000    4879.000000   3.700000     88.000000\n",
       "25%       3.813000   10776.000000   7.450000    330.075000\n",
       "50%      46.385000   31142.000000   8.950000   2509.000000\n",
       "75%     218.500000   68472.500000  10.100000  15707.500000\n",
       "max    1898.000000  142984.000000  23.100000  59800.000000"
      ]
     },
     "execution_count": 6,
     "metadata": {},
     "output_type": "execute_result"
    }
   ],
   "source": [
    "planets.describe()"
   ]
  },
  {
   "cell_type": "markdown",
   "metadata": {
    "deletable": true,
    "editable": true
   },
   "source": [
    "## Accessing data in Data Frames"
   ]
  },
  {
   "cell_type": "code",
   "execution_count": 7,
   "metadata": {
    "collapsed": false,
    "deletable": true,
    "editable": true
   },
   "outputs": [
    {
     "data": {
      "text/plain": [
       "9.0"
      ]
     },
     "execution_count": 7,
     "metadata": {},
     "output_type": "execute_result"
    }
   ],
   "source": [
    "# Get element 0,0\n",
    "planets.iloc[5,2]"
   ]
  },
  {
   "cell_type": "code",
   "execution_count": 8,
   "metadata": {
    "collapsed": false,
    "deletable": true,
    "editable": true
   },
   "outputs": [
    {
     "data": {
      "text/plain": [
       "9.0"
      ]
     },
     "execution_count": 8,
     "metadata": {},
     "output_type": "execute_result"
    }
   ],
   "source": [
    "planets.loc['Saturn','gravity']"
   ]
  },
  {
   "cell_type": "code",
   "execution_count": 9,
   "metadata": {
    "collapsed": false,
    "deletable": true,
    "editable": true
   },
   "outputs": [
    {
     "data": {
      "text/plain": [
       "Mercury       0.330\n",
       "Venus         4.870\n",
       "Earth         5.970\n",
       "Mars          0.642\n",
       "Jupiter    1898.000\n",
       "Saturn      568.000\n",
       "Uranus       86.800\n",
       "Neptune     102.000\n",
       "Name: mass, dtype: float64"
      ]
     },
     "execution_count": 9,
     "metadata": {},
     "output_type": "execute_result"
    }
   ],
   "source": [
    "# Get column 0\n",
    "planets.iloc[:,0]"
   ]
  },
  {
   "cell_type": "code",
   "execution_count": 10,
   "metadata": {
    "collapsed": false,
    "deletable": true,
    "editable": true
   },
   "outputs": [
    {
     "data": {
      "text/plain": [
       "Mercury       0.330\n",
       "Venus         4.870\n",
       "Earth         5.970\n",
       "Mars          0.642\n",
       "Jupiter    1898.000\n",
       "Saturn      568.000\n",
       "Uranus       86.800\n",
       "Neptune     102.000\n",
       "Name: mass, dtype: float64"
      ]
     },
     "execution_count": 10,
     "metadata": {},
     "output_type": "execute_result"
    }
   ],
   "source": [
    "planets['mass']\n",
    "planets.loc[:,'mass']"
   ]
  },
  {
   "cell_type": "code",
   "execution_count": 11,
   "metadata": {
    "collapsed": false,
    "deletable": true,
    "editable": true
   },
   "outputs": [
    {
     "data": {
      "text/html": [
       "<div>\n",
       "<table border=\"1\" class=\"dataframe\">\n",
       "  <thead>\n",
       "    <tr style=\"text-align: right;\">\n",
       "      <th></th>\n",
       "      <th>mass</th>\n",
       "      <th>diameter</th>\n",
       "      <th>gravity</th>\n",
       "    </tr>\n",
       "  </thead>\n",
       "  <tbody>\n",
       "    <tr>\n",
       "      <th>Mercury</th>\n",
       "      <td>0.330</td>\n",
       "      <td>4879.0</td>\n",
       "      <td>3.7</td>\n",
       "    </tr>\n",
       "    <tr>\n",
       "      <th>Venus</th>\n",
       "      <td>4.870</td>\n",
       "      <td>12104.0</td>\n",
       "      <td>8.9</td>\n",
       "    </tr>\n",
       "    <tr>\n",
       "      <th>Earth</th>\n",
       "      <td>5.970</td>\n",
       "      <td>12756.0</td>\n",
       "      <td>9.8</td>\n",
       "    </tr>\n",
       "    <tr>\n",
       "      <th>Mars</th>\n",
       "      <td>0.642</td>\n",
       "      <td>6792.0</td>\n",
       "      <td>3.7</td>\n",
       "    </tr>\n",
       "    <tr>\n",
       "      <th>Jupiter</th>\n",
       "      <td>1898.000</td>\n",
       "      <td>142984.0</td>\n",
       "      <td>23.1</td>\n",
       "    </tr>\n",
       "    <tr>\n",
       "      <th>Saturn</th>\n",
       "      <td>568.000</td>\n",
       "      <td>120536.0</td>\n",
       "      <td>9.0</td>\n",
       "    </tr>\n",
       "    <tr>\n",
       "      <th>Uranus</th>\n",
       "      <td>86.800</td>\n",
       "      <td>51118.0</td>\n",
       "      <td>8.7</td>\n",
       "    </tr>\n",
       "    <tr>\n",
       "      <th>Neptune</th>\n",
       "      <td>102.000</td>\n",
       "      <td>49528.0</td>\n",
       "      <td>11.0</td>\n",
       "    </tr>\n",
       "  </tbody>\n",
       "</table>\n",
       "</div>"
      ],
      "text/plain": [
       "             mass  diameter  gravity\n",
       "Mercury     0.330    4879.0      3.7\n",
       "Venus       4.870   12104.0      8.9\n",
       "Earth       5.970   12756.0      9.8\n",
       "Mars        0.642    6792.0      3.7\n",
       "Jupiter  1898.000  142984.0     23.1\n",
       "Saturn    568.000  120536.0      9.0\n",
       "Uranus     86.800   51118.0      8.7\n",
       "Neptune   102.000   49528.0     11.0"
      ]
     },
     "execution_count": 11,
     "metadata": {},
     "output_type": "execute_result"
    }
   ],
   "source": [
    "# Get columns 0 thru 2\n",
    "planets.iloc[:,0:3]"
   ]
  },
  {
   "cell_type": "code",
   "execution_count": 12,
   "metadata": {
    "collapsed": false,
    "deletable": true,
    "editable": true
   },
   "outputs": [
    {
     "data": {
      "text/html": [
       "<div>\n",
       "<table border=\"1\" class=\"dataframe\">\n",
       "  <thead>\n",
       "    <tr style=\"text-align: right;\">\n",
       "      <th></th>\n",
       "      <th>mass</th>\n",
       "      <th>diameter</th>\n",
       "      <th>gravity</th>\n",
       "    </tr>\n",
       "  </thead>\n",
       "  <tbody>\n",
       "    <tr>\n",
       "      <th>Mercury</th>\n",
       "      <td>0.330</td>\n",
       "      <td>4879.0</td>\n",
       "      <td>3.7</td>\n",
       "    </tr>\n",
       "    <tr>\n",
       "      <th>Venus</th>\n",
       "      <td>4.870</td>\n",
       "      <td>12104.0</td>\n",
       "      <td>8.9</td>\n",
       "    </tr>\n",
       "    <tr>\n",
       "      <th>Earth</th>\n",
       "      <td>5.970</td>\n",
       "      <td>12756.0</td>\n",
       "      <td>9.8</td>\n",
       "    </tr>\n",
       "    <tr>\n",
       "      <th>Mars</th>\n",
       "      <td>0.642</td>\n",
       "      <td>6792.0</td>\n",
       "      <td>3.7</td>\n",
       "    </tr>\n",
       "    <tr>\n",
       "      <th>Jupiter</th>\n",
       "      <td>1898.000</td>\n",
       "      <td>142984.0</td>\n",
       "      <td>23.1</td>\n",
       "    </tr>\n",
       "    <tr>\n",
       "      <th>Saturn</th>\n",
       "      <td>568.000</td>\n",
       "      <td>120536.0</td>\n",
       "      <td>9.0</td>\n",
       "    </tr>\n",
       "    <tr>\n",
       "      <th>Uranus</th>\n",
       "      <td>86.800</td>\n",
       "      <td>51118.0</td>\n",
       "      <td>8.7</td>\n",
       "    </tr>\n",
       "    <tr>\n",
       "      <th>Neptune</th>\n",
       "      <td>102.000</td>\n",
       "      <td>49528.0</td>\n",
       "      <td>11.0</td>\n",
       "    </tr>\n",
       "  </tbody>\n",
       "</table>\n",
       "</div>"
      ],
      "text/plain": [
       "             mass  diameter  gravity\n",
       "Mercury     0.330    4879.0      3.7\n",
       "Venus       4.870   12104.0      8.9\n",
       "Earth       5.970   12756.0      9.8\n",
       "Mars        0.642    6792.0      3.7\n",
       "Jupiter  1898.000  142984.0     23.1\n",
       "Saturn    568.000  120536.0      9.0\n",
       "Uranus     86.800   51118.0      8.7\n",
       "Neptune   102.000   49528.0     11.0"
      ]
     },
     "execution_count": 12,
     "metadata": {},
     "output_type": "execute_result"
    }
   ],
   "source": [
    "planets.loc[:,'mass':'gravity']"
   ]
  },
  {
   "cell_type": "code",
   "execution_count": 15,
   "metadata": {
    "collapsed": false,
    "deletable": true,
    "editable": true
   },
   "outputs": [
    {
     "data": {
      "text/html": [
       "<div>\n",
       "<table border=\"1\" class=\"dataframe\">\n",
       "  <thead>\n",
       "    <tr style=\"text-align: right;\">\n",
       "      <th></th>\n",
       "      <th>mass</th>\n",
       "      <th>period</th>\n",
       "    </tr>\n",
       "  </thead>\n",
       "  <tbody>\n",
       "    <tr>\n",
       "      <th>Mercury</th>\n",
       "      <td>0.330</td>\n",
       "      <td>88.0</td>\n",
       "    </tr>\n",
       "    <tr>\n",
       "      <th>Venus</th>\n",
       "      <td>4.870</td>\n",
       "      <td>224.7</td>\n",
       "    </tr>\n",
       "    <tr>\n",
       "      <th>Earth</th>\n",
       "      <td>5.970</td>\n",
       "      <td>365.2</td>\n",
       "    </tr>\n",
       "    <tr>\n",
       "      <th>Mars</th>\n",
       "      <td>0.642</td>\n",
       "      <td>687.0</td>\n",
       "    </tr>\n",
       "    <tr>\n",
       "      <th>Jupiter</th>\n",
       "      <td>1898.000</td>\n",
       "      <td>4331.0</td>\n",
       "    </tr>\n",
       "    <tr>\n",
       "      <th>Saturn</th>\n",
       "      <td>568.000</td>\n",
       "      <td>10747.0</td>\n",
       "    </tr>\n",
       "    <tr>\n",
       "      <th>Uranus</th>\n",
       "      <td>86.800</td>\n",
       "      <td>30589.0</td>\n",
       "    </tr>\n",
       "    <tr>\n",
       "      <th>Neptune</th>\n",
       "      <td>102.000</td>\n",
       "      <td>59800.0</td>\n",
       "    </tr>\n",
       "  </tbody>\n",
       "</table>\n",
       "</div>"
      ],
      "text/plain": [
       "             mass   period\n",
       "Mercury     0.330     88.0\n",
       "Venus       4.870    224.7\n",
       "Earth       5.970    365.2\n",
       "Mars        0.642    687.0\n",
       "Jupiter  1898.000   4331.0\n",
       "Saturn    568.000  10747.0\n",
       "Uranus     86.800  30589.0\n",
       "Neptune   102.000  59800.0"
      ]
     },
     "execution_count": 15,
     "metadata": {},
     "output_type": "execute_result"
    }
   ],
   "source": [
    "# Get columns 0 and 3\n",
    "planets.iloc[:,[0,3]]"
   ]
  },
  {
   "cell_type": "code",
   "execution_count": 14,
   "metadata": {
    "collapsed": false,
    "deletable": true,
    "editable": true
   },
   "outputs": [
    {
     "data": {
      "text/html": [
       "<div>\n",
       "<table border=\"1\" class=\"dataframe\">\n",
       "  <thead>\n",
       "    <tr style=\"text-align: right;\">\n",
       "      <th></th>\n",
       "      <th>mass</th>\n",
       "      <th>period</th>\n",
       "    </tr>\n",
       "  </thead>\n",
       "  <tbody>\n",
       "    <tr>\n",
       "      <th>Mercury</th>\n",
       "      <td>0.330</td>\n",
       "      <td>88.0</td>\n",
       "    </tr>\n",
       "    <tr>\n",
       "      <th>Venus</th>\n",
       "      <td>4.870</td>\n",
       "      <td>224.7</td>\n",
       "    </tr>\n",
       "    <tr>\n",
       "      <th>Earth</th>\n",
       "      <td>5.970</td>\n",
       "      <td>365.2</td>\n",
       "    </tr>\n",
       "    <tr>\n",
       "      <th>Mars</th>\n",
       "      <td>0.642</td>\n",
       "      <td>687.0</td>\n",
       "    </tr>\n",
       "    <tr>\n",
       "      <th>Jupiter</th>\n",
       "      <td>1898.000</td>\n",
       "      <td>4331.0</td>\n",
       "    </tr>\n",
       "    <tr>\n",
       "      <th>Saturn</th>\n",
       "      <td>568.000</td>\n",
       "      <td>10747.0</td>\n",
       "    </tr>\n",
       "    <tr>\n",
       "      <th>Uranus</th>\n",
       "      <td>86.800</td>\n",
       "      <td>30589.0</td>\n",
       "    </tr>\n",
       "    <tr>\n",
       "      <th>Neptune</th>\n",
       "      <td>102.000</td>\n",
       "      <td>59800.0</td>\n",
       "    </tr>\n",
       "  </tbody>\n",
       "</table>\n",
       "</div>"
      ],
      "text/plain": [
       "             mass   period\n",
       "Mercury     0.330     88.0\n",
       "Venus       4.870    224.7\n",
       "Earth       5.970    365.2\n",
       "Mars        0.642    687.0\n",
       "Jupiter  1898.000   4331.0\n",
       "Saturn    568.000  10747.0\n",
       "Uranus     86.800  30589.0\n",
       "Neptune   102.000  59800.0"
      ]
     },
     "execution_count": 14,
     "metadata": {},
     "output_type": "execute_result"
    }
   ],
   "source": [
    "planets.loc[:,['mass','period']]"
   ]
  },
  {
   "cell_type": "code",
   "execution_count": 16,
   "metadata": {
    "collapsed": false,
    "deletable": true,
    "editable": true
   },
   "outputs": [
    {
     "data": {
      "text/plain": [
       "mass          1898.0\n",
       "diameter    142984.0\n",
       "gravity         23.1\n",
       "period        4331.0\n",
       "Name: Jupiter, dtype: float64"
      ]
     },
     "execution_count": 16,
     "metadata": {},
     "output_type": "execute_result"
    }
   ],
   "source": [
    "# Get row 0\n",
    "planets.iloc[4,:]"
   ]
  },
  {
   "cell_type": "code",
   "execution_count": 17,
   "metadata": {
    "collapsed": false,
    "deletable": true,
    "editable": true
   },
   "outputs": [
    {
     "data": {
      "text/plain": [
       "mass          1898.0\n",
       "diameter    142984.0\n",
       "gravity         23.1\n",
       "period        4331.0\n",
       "Name: Jupiter, dtype: float64"
      ]
     },
     "execution_count": 17,
     "metadata": {},
     "output_type": "execute_result"
    }
   ],
   "source": [
    "planets.loc['Jupiter',:]"
   ]
  },
  {
   "cell_type": "code",
   "execution_count": 18,
   "metadata": {
    "collapsed": false,
    "deletable": true,
    "editable": true
   },
   "outputs": [
    {
     "data": {
      "text/html": [
       "<div>\n",
       "<table border=\"1\" class=\"dataframe\">\n",
       "  <thead>\n",
       "    <tr style=\"text-align: right;\">\n",
       "      <th></th>\n",
       "      <th>mass</th>\n",
       "      <th>diameter</th>\n",
       "      <th>gravity</th>\n",
       "      <th>period</th>\n",
       "    </tr>\n",
       "  </thead>\n",
       "  <tbody>\n",
       "    <tr>\n",
       "      <th>Earth</th>\n",
       "      <td>5.970</td>\n",
       "      <td>12756.0</td>\n",
       "      <td>9.8</td>\n",
       "      <td>365.2</td>\n",
       "    </tr>\n",
       "    <tr>\n",
       "      <th>Mars</th>\n",
       "      <td>0.642</td>\n",
       "      <td>6792.0</td>\n",
       "      <td>3.7</td>\n",
       "      <td>687.0</td>\n",
       "    </tr>\n",
       "    <tr>\n",
       "      <th>Jupiter</th>\n",
       "      <td>1898.000</td>\n",
       "      <td>142984.0</td>\n",
       "      <td>23.1</td>\n",
       "      <td>4331.0</td>\n",
       "    </tr>\n",
       "    <tr>\n",
       "      <th>Saturn</th>\n",
       "      <td>568.000</td>\n",
       "      <td>120536.0</td>\n",
       "      <td>9.0</td>\n",
       "      <td>10747.0</td>\n",
       "    </tr>\n",
       "  </tbody>\n",
       "</table>\n",
       "</div>"
      ],
      "text/plain": [
       "             mass  diameter  gravity   period\n",
       "Earth       5.970   12756.0      9.8    365.2\n",
       "Mars        0.642    6792.0      3.7    687.0\n",
       "Jupiter  1898.000  142984.0     23.1   4331.0\n",
       "Saturn    568.000  120536.0      9.0  10747.0"
      ]
     },
     "execution_count": 18,
     "metadata": {},
     "output_type": "execute_result"
    }
   ],
   "source": [
    "# Get rows 2 thru 6\n",
    "planets.iloc[2:6,:]"
   ]
  },
  {
   "cell_type": "code",
   "execution_count": 19,
   "metadata": {
    "collapsed": false,
    "deletable": true,
    "editable": true
   },
   "outputs": [
    {
     "data": {
      "text/html": [
       "<div>\n",
       "<table border=\"1\" class=\"dataframe\">\n",
       "  <thead>\n",
       "    <tr style=\"text-align: right;\">\n",
       "      <th></th>\n",
       "      <th>mass</th>\n",
       "      <th>diameter</th>\n",
       "      <th>gravity</th>\n",
       "      <th>period</th>\n",
       "    </tr>\n",
       "  </thead>\n",
       "  <tbody>\n",
       "    <tr>\n",
       "      <th>Earth</th>\n",
       "      <td>5.970</td>\n",
       "      <td>12756.0</td>\n",
       "      <td>9.8</td>\n",
       "      <td>365.2</td>\n",
       "    </tr>\n",
       "    <tr>\n",
       "      <th>Mars</th>\n",
       "      <td>0.642</td>\n",
       "      <td>6792.0</td>\n",
       "      <td>3.7</td>\n",
       "      <td>687.0</td>\n",
       "    </tr>\n",
       "    <tr>\n",
       "      <th>Jupiter</th>\n",
       "      <td>1898.000</td>\n",
       "      <td>142984.0</td>\n",
       "      <td>23.1</td>\n",
       "      <td>4331.0</td>\n",
       "    </tr>\n",
       "    <tr>\n",
       "      <th>Saturn</th>\n",
       "      <td>568.000</td>\n",
       "      <td>120536.0</td>\n",
       "      <td>9.0</td>\n",
       "      <td>10747.0</td>\n",
       "    </tr>\n",
       "  </tbody>\n",
       "</table>\n",
       "</div>"
      ],
      "text/plain": [
       "             mass  diameter  gravity   period\n",
       "Earth       5.970   12756.0      9.8    365.2\n",
       "Mars        0.642    6792.0      3.7    687.0\n",
       "Jupiter  1898.000  142984.0     23.1   4331.0\n",
       "Saturn    568.000  120536.0      9.0  10747.0"
      ]
     },
     "execution_count": 19,
     "metadata": {},
     "output_type": "execute_result"
    }
   ],
   "source": [
    "planets.loc['Earth':'Saturn',:]"
   ]
  },
  {
   "cell_type": "code",
   "execution_count": 20,
   "metadata": {
    "collapsed": false,
    "deletable": true,
    "editable": true
   },
   "outputs": [
    {
     "data": {
      "text/html": [
       "<div>\n",
       "<table border=\"1\" class=\"dataframe\">\n",
       "  <thead>\n",
       "    <tr style=\"text-align: right;\">\n",
       "      <th></th>\n",
       "      <th>mass</th>\n",
       "      <th>diameter</th>\n",
       "      <th>gravity</th>\n",
       "      <th>period</th>\n",
       "    </tr>\n",
       "  </thead>\n",
       "  <tbody>\n",
       "    <tr>\n",
       "      <th>Mercury</th>\n",
       "      <td>0.33</td>\n",
       "      <td>4879.0</td>\n",
       "      <td>3.7</td>\n",
       "      <td>88.0</td>\n",
       "    </tr>\n",
       "    <tr>\n",
       "      <th>Earth</th>\n",
       "      <td>5.97</td>\n",
       "      <td>12756.0</td>\n",
       "      <td>9.8</td>\n",
       "      <td>365.2</td>\n",
       "    </tr>\n",
       "  </tbody>\n",
       "</table>\n",
       "</div>"
      ],
      "text/plain": [
       "         mass  diameter  gravity  period\n",
       "Mercury  0.33    4879.0      3.7    88.0\n",
       "Earth    5.97   12756.0      9.8   365.2"
      ]
     },
     "execution_count": 20,
     "metadata": {},
     "output_type": "execute_result"
    }
   ],
   "source": [
    "# Get rows 0 and 2\n",
    "planets.iloc[[0,2],:]"
   ]
  },
  {
   "cell_type": "code",
   "execution_count": 21,
   "metadata": {
    "collapsed": false,
    "deletable": true,
    "editable": true
   },
   "outputs": [
    {
     "data": {
      "text/html": [
       "<div>\n",
       "<table border=\"1\" class=\"dataframe\">\n",
       "  <thead>\n",
       "    <tr style=\"text-align: right;\">\n",
       "      <th></th>\n",
       "      <th>mass</th>\n",
       "      <th>diameter</th>\n",
       "      <th>gravity</th>\n",
       "      <th>period</th>\n",
       "    </tr>\n",
       "  </thead>\n",
       "  <tbody>\n",
       "    <tr>\n",
       "      <th>Mercury</th>\n",
       "      <td>0.33</td>\n",
       "      <td>4879.0</td>\n",
       "      <td>3.7</td>\n",
       "      <td>88.0</td>\n",
       "    </tr>\n",
       "    <tr>\n",
       "      <th>Earth</th>\n",
       "      <td>5.97</td>\n",
       "      <td>12756.0</td>\n",
       "      <td>9.8</td>\n",
       "      <td>365.2</td>\n",
       "    </tr>\n",
       "  </tbody>\n",
       "</table>\n",
       "</div>"
      ],
      "text/plain": [
       "         mass  diameter  gravity  period\n",
       "Mercury  0.33    4879.0      3.7    88.0\n",
       "Earth    5.97   12756.0      9.8   365.2"
      ]
     },
     "execution_count": 21,
     "metadata": {},
     "output_type": "execute_result"
    }
   ],
   "source": [
    "planets.loc[['Mercury','Earth'],:]"
   ]
  },
  {
   "cell_type": "markdown",
   "metadata": {},
   "source": [
    "## Data is shared between Data Frame and ND-array"
   ]
  },
  {
   "cell_type": "code",
   "execution_count": 22,
   "metadata": {
    "collapsed": false
   },
   "outputs": [
    {
     "data": {
      "text/html": [
       "<div>\n",
       "<table border=\"1\" class=\"dataframe\">\n",
       "  <thead>\n",
       "    <tr style=\"text-align: right;\">\n",
       "      <th></th>\n",
       "      <th>a</th>\n",
       "      <th>b</th>\n",
       "      <th>c</th>\n",
       "    </tr>\n",
       "  </thead>\n",
       "  <tbody>\n",
       "    <tr>\n",
       "      <th>A</th>\n",
       "      <td>0.086834</td>\n",
       "      <td>0.499837</td>\n",
       "      <td>0.222896</td>\n",
       "    </tr>\n",
       "    <tr>\n",
       "      <th>B</th>\n",
       "      <td>0.385825</td>\n",
       "      <td>0.087574</td>\n",
       "      <td>0.230629</td>\n",
       "    </tr>\n",
       "    <tr>\n",
       "      <th>C</th>\n",
       "      <td>0.079789</td>\n",
       "      <td>0.401797</td>\n",
       "      <td>0.953609</td>\n",
       "    </tr>\n",
       "    <tr>\n",
       "      <th>D</th>\n",
       "      <td>0.675066</td>\n",
       "      <td>0.558307</td>\n",
       "      <td>0.865451</td>\n",
       "    </tr>\n",
       "    <tr>\n",
       "      <th>E</th>\n",
       "      <td>0.424269</td>\n",
       "      <td>0.118610</td>\n",
       "      <td>0.734531</td>\n",
       "    </tr>\n",
       "  </tbody>\n",
       "</table>\n",
       "</div>"
      ],
      "text/plain": [
       "          a         b         c\n",
       "A  0.086834  0.499837  0.222896\n",
       "B  0.385825  0.087574  0.230629\n",
       "C  0.079789  0.401797  0.953609\n",
       "D  0.675066  0.558307  0.865451\n",
       "E  0.424269  0.118610  0.734531"
      ]
     },
     "execution_count": 22,
     "metadata": {},
     "output_type": "execute_result"
    }
   ],
   "source": [
    "m = np.random.rand(5,3)\n",
    "df = pd.DataFrame(m, \n",
    "                  columns=['a', 'b', 'c'],\n",
    "                  index=['A','B','C','D','E'])\n",
    "df"
   ]
  },
  {
   "cell_type": "code",
   "execution_count": 23,
   "metadata": {
    "collapsed": false
   },
   "outputs": [
    {
     "data": {
      "text/html": [
       "<div>\n",
       "<table border=\"1\" class=\"dataframe\">\n",
       "  <thead>\n",
       "    <tr style=\"text-align: right;\">\n",
       "      <th></th>\n",
       "      <th>a</th>\n",
       "      <th>b</th>\n",
       "      <th>c</th>\n",
       "    </tr>\n",
       "  </thead>\n",
       "  <tbody>\n",
       "    <tr>\n",
       "      <th>A</th>\n",
       "      <td>10.000000</td>\n",
       "      <td>0.499837</td>\n",
       "      <td>0.222896</td>\n",
       "    </tr>\n",
       "    <tr>\n",
       "      <th>B</th>\n",
       "      <td>0.385825</td>\n",
       "      <td>0.087574</td>\n",
       "      <td>0.230629</td>\n",
       "    </tr>\n",
       "    <tr>\n",
       "      <th>C</th>\n",
       "      <td>0.079789</td>\n",
       "      <td>0.401797</td>\n",
       "      <td>0.953609</td>\n",
       "    </tr>\n",
       "    <tr>\n",
       "      <th>D</th>\n",
       "      <td>0.675066</td>\n",
       "      <td>0.558307</td>\n",
       "      <td>0.865451</td>\n",
       "    </tr>\n",
       "    <tr>\n",
       "      <th>E</th>\n",
       "      <td>0.424269</td>\n",
       "      <td>0.118610</td>\n",
       "      <td>0.734531</td>\n",
       "    </tr>\n",
       "  </tbody>\n",
       "</table>\n",
       "</div>"
      ],
      "text/plain": [
       "           a         b         c\n",
       "A  10.000000  0.499837  0.222896\n",
       "B   0.385825  0.087574  0.230629\n",
       "C   0.079789  0.401797  0.953609\n",
       "D   0.675066  0.558307  0.865451\n",
       "E   0.424269  0.118610  0.734531"
      ]
     },
     "execution_count": 23,
     "metadata": {},
     "output_type": "execute_result"
    }
   ],
   "source": [
    "m[0,0] = 10.0\n",
    "df"
   ]
  },
  {
   "cell_type": "markdown",
   "metadata": {
    "deletable": true,
    "editable": true
   },
   "source": [
    "## Modifying data in Data Frames"
   ]
  },
  {
   "cell_type": "code",
   "execution_count": 24,
   "metadata": {
    "collapsed": false,
    "deletable": true,
    "editable": true
   },
   "outputs": [
    {
     "data": {
      "text/plain": [
       "100.0"
      ]
     },
     "execution_count": 24,
     "metadata": {},
     "output_type": "execute_result"
    }
   ],
   "source": [
    "# Set element 0, 0\n",
    "df.iloc[2,1] = 100.0\n",
    "df.iloc[2,1]"
   ]
  },
  {
   "cell_type": "code",
   "execution_count": 25,
   "metadata": {
    "collapsed": false,
    "deletable": true,
    "editable": true
   },
   "outputs": [
    {
     "data": {
      "text/plain": [
       "200.0"
      ]
     },
     "execution_count": 25,
     "metadata": {},
     "output_type": "execute_result"
    }
   ],
   "source": [
    "df.loc['A','a'] = 200.0\n",
    "df.iloc[0,0]"
   ]
  },
  {
   "cell_type": "code",
   "execution_count": 26,
   "metadata": {
    "collapsed": false,
    "deletable": true,
    "editable": true
   },
   "outputs": [
    {
     "data": {
      "text/html": [
       "<div>\n",
       "<table border=\"1\" class=\"dataframe\">\n",
       "  <thead>\n",
       "    <tr style=\"text-align: right;\">\n",
       "      <th></th>\n",
       "      <th>a</th>\n",
       "      <th>b</th>\n",
       "      <th>c</th>\n",
       "    </tr>\n",
       "  </thead>\n",
       "  <tbody>\n",
       "    <tr>\n",
       "      <th>A</th>\n",
       "      <td>0.0</td>\n",
       "      <td>0.499837</td>\n",
       "      <td>0.222896</td>\n",
       "    </tr>\n",
       "    <tr>\n",
       "      <th>B</th>\n",
       "      <td>1.0</td>\n",
       "      <td>0.087574</td>\n",
       "      <td>0.230629</td>\n",
       "    </tr>\n",
       "    <tr>\n",
       "      <th>C</th>\n",
       "      <td>2.0</td>\n",
       "      <td>100.000000</td>\n",
       "      <td>0.953609</td>\n",
       "    </tr>\n",
       "    <tr>\n",
       "      <th>D</th>\n",
       "      <td>3.0</td>\n",
       "      <td>0.558307</td>\n",
       "      <td>0.865451</td>\n",
       "    </tr>\n",
       "    <tr>\n",
       "      <th>E</th>\n",
       "      <td>4.0</td>\n",
       "      <td>0.118610</td>\n",
       "      <td>0.734531</td>\n",
       "    </tr>\n",
       "  </tbody>\n",
       "</table>\n",
       "</div>"
      ],
      "text/plain": [
       "     a           b         c\n",
       "A  0.0    0.499837  0.222896\n",
       "B  1.0    0.087574  0.230629\n",
       "C  2.0  100.000000  0.953609\n",
       "D  3.0    0.558307  0.865451\n",
       "E  4.0    0.118610  0.734531"
      ]
     },
     "execution_count": 26,
     "metadata": {},
     "output_type": "execute_result"
    }
   ],
   "source": [
    "# Set column 0 using 1D-array\n",
    "df.iloc[:,0] = np.arange(5, dtype=np.float64)\n",
    "df"
   ]
  },
  {
   "cell_type": "code",
   "execution_count": 27,
   "metadata": {
    "collapsed": false,
    "deletable": true,
    "editable": true
   },
   "outputs": [
    {
     "data": {
      "text/html": [
       "<div>\n",
       "<table border=\"1\" class=\"dataframe\">\n",
       "  <thead>\n",
       "    <tr style=\"text-align: right;\">\n",
       "      <th></th>\n",
       "      <th>a</th>\n",
       "      <th>b</th>\n",
       "      <th>c</th>\n",
       "    </tr>\n",
       "  </thead>\n",
       "  <tbody>\n",
       "    <tr>\n",
       "      <th>A</th>\n",
       "      <td>0.0</td>\n",
       "      <td>200.0</td>\n",
       "      <td>0.222896</td>\n",
       "    </tr>\n",
       "    <tr>\n",
       "      <th>B</th>\n",
       "      <td>1.0</td>\n",
       "      <td>200.0</td>\n",
       "      <td>0.230629</td>\n",
       "    </tr>\n",
       "    <tr>\n",
       "      <th>C</th>\n",
       "      <td>2.0</td>\n",
       "      <td>200.0</td>\n",
       "      <td>0.953609</td>\n",
       "    </tr>\n",
       "    <tr>\n",
       "      <th>D</th>\n",
       "      <td>3.0</td>\n",
       "      <td>200.0</td>\n",
       "      <td>0.865451</td>\n",
       "    </tr>\n",
       "    <tr>\n",
       "      <th>E</th>\n",
       "      <td>4.0</td>\n",
       "      <td>200.0</td>\n",
       "      <td>0.734531</td>\n",
       "    </tr>\n",
       "  </tbody>\n",
       "</table>\n",
       "</div>"
      ],
      "text/plain": [
       "     a      b         c\n",
       "A  0.0  200.0  0.222896\n",
       "B  1.0  200.0  0.230629\n",
       "C  2.0  200.0  0.953609\n",
       "D  3.0  200.0  0.865451\n",
       "E  4.0  200.0  0.734531"
      ]
     },
     "execution_count": 27,
     "metadata": {},
     "output_type": "execute_result"
    }
   ],
   "source": [
    "# Set column 1 using scalar\n",
    "df.iloc[:,1] = 200.0\n",
    "df"
   ]
  },
  {
   "cell_type": "markdown",
   "metadata": {
    "deletable": true,
    "editable": true
   },
   "source": [
    "## Some methods create new Data Frames"
   ]
  },
  {
   "cell_type": "code",
   "execution_count": 28,
   "metadata": {
    "collapsed": false,
    "deletable": true,
    "editable": true
   },
   "outputs": [
    {
     "data": {
      "text/html": [
       "<div>\n",
       "<table border=\"1\" class=\"dataframe\">\n",
       "  <thead>\n",
       "    <tr style=\"text-align: right;\">\n",
       "      <th></th>\n",
       "      <th>a</th>\n",
       "      <th>b</th>\n",
       "      <th>c</th>\n",
       "      <th>d</th>\n",
       "    </tr>\n",
       "  </thead>\n",
       "  <tbody>\n",
       "    <tr>\n",
       "      <th>A</th>\n",
       "      <td>0.0</td>\n",
       "      <td>200.0</td>\n",
       "      <td>0.222896</td>\n",
       "      <td>0.222896</td>\n",
       "    </tr>\n",
       "    <tr>\n",
       "      <th>B</th>\n",
       "      <td>1.0</td>\n",
       "      <td>200.0</td>\n",
       "      <td>0.230629</td>\n",
       "      <td>0.230629</td>\n",
       "    </tr>\n",
       "    <tr>\n",
       "      <th>C</th>\n",
       "      <td>2.0</td>\n",
       "      <td>200.0</td>\n",
       "      <td>0.953609</td>\n",
       "      <td>0.953609</td>\n",
       "    </tr>\n",
       "    <tr>\n",
       "      <th>D</th>\n",
       "      <td>3.0</td>\n",
       "      <td>200.0</td>\n",
       "      <td>0.865451</td>\n",
       "      <td>0.865451</td>\n",
       "    </tr>\n",
       "    <tr>\n",
       "      <th>E</th>\n",
       "      <td>4.0</td>\n",
       "      <td>200.0</td>\n",
       "      <td>0.734531</td>\n",
       "      <td>0.734531</td>\n",
       "    </tr>\n",
       "  </tbody>\n",
       "</table>\n",
       "</div>"
      ],
      "text/plain": [
       "     a      b         c         d\n",
       "A  0.0  200.0  0.222896  0.222896\n",
       "B  1.0  200.0  0.230629  0.230629\n",
       "C  2.0  200.0  0.953609  0.953609\n",
       "D  3.0  200.0  0.865451  0.865451\n",
       "E  4.0  200.0  0.734531  0.734531"
      ]
     },
     "execution_count": 28,
     "metadata": {},
     "output_type": "execute_result"
    }
   ],
   "source": [
    "# add new column\n",
    "df.assign(d=np.abs(df['c']))"
   ]
  },
  {
   "cell_type": "code",
   "execution_count": 29,
   "metadata": {
    "collapsed": false,
    "deletable": true,
    "editable": true
   },
   "outputs": [
    {
     "data": {
      "text/html": [
       "<div>\n",
       "<table border=\"1\" class=\"dataframe\">\n",
       "  <thead>\n",
       "    <tr style=\"text-align: right;\">\n",
       "      <th></th>\n",
       "      <th>a</th>\n",
       "      <th>b</th>\n",
       "      <th>c</th>\n",
       "    </tr>\n",
       "  </thead>\n",
       "  <tbody>\n",
       "    <tr>\n",
       "      <th>A</th>\n",
       "      <td>0.0</td>\n",
       "      <td>200.0</td>\n",
       "      <td>0.222896</td>\n",
       "    </tr>\n",
       "    <tr>\n",
       "      <th>B</th>\n",
       "      <td>1.0</td>\n",
       "      <td>200.0</td>\n",
       "      <td>0.230629</td>\n",
       "    </tr>\n",
       "    <tr>\n",
       "      <th>C</th>\n",
       "      <td>2.0</td>\n",
       "      <td>200.0</td>\n",
       "      <td>0.953609</td>\n",
       "    </tr>\n",
       "    <tr>\n",
       "      <th>D</th>\n",
       "      <td>3.0</td>\n",
       "      <td>200.0</td>\n",
       "      <td>0.865451</td>\n",
       "    </tr>\n",
       "    <tr>\n",
       "      <th>E</th>\n",
       "      <td>4.0</td>\n",
       "      <td>200.0</td>\n",
       "      <td>0.734531</td>\n",
       "    </tr>\n",
       "  </tbody>\n",
       "</table>\n",
       "</div>"
      ],
      "text/plain": [
       "     a      b         c\n",
       "A  0.0  200.0  0.222896\n",
       "B  1.0  200.0  0.230629\n",
       "C  2.0  200.0  0.953609\n",
       "D  3.0  200.0  0.865451\n",
       "E  4.0  200.0  0.734531"
      ]
     },
     "execution_count": 29,
     "metadata": {},
     "output_type": "execute_result"
    }
   ],
   "source": [
    "# df has not changed\n",
    "df"
   ]
  },
  {
   "cell_type": "markdown",
   "metadata": {
    "deletable": true,
    "editable": true
   },
   "source": [
    "## Creating Data Frame from dictionary"
   ]
  },
  {
   "cell_type": "code",
   "execution_count": 65,
   "metadata": {
    "collapsed": false,
    "deletable": true,
    "editable": true
   },
   "outputs": [
    {
     "data": {
      "text/html": [
       "<div>\n",
       "<table border=\"1\" class=\"dataframe\">\n",
       "  <thead>\n",
       "    <tr style=\"text-align: right;\">\n",
       "      <th></th>\n",
       "      <th>diameter</th>\n",
       "      <th>mass</th>\n",
       "    </tr>\n",
       "  </thead>\n",
       "  <tbody>\n",
       "    <tr>\n",
       "      <th>Callisto</th>\n",
       "      <td>4821</td>\n",
       "      <td>107.6</td>\n",
       "    </tr>\n",
       "    <tr>\n",
       "      <th>Ganymede</th>\n",
       "      <td>5262</td>\n",
       "      <td>148.2</td>\n",
       "    </tr>\n",
       "    <tr>\n",
       "      <th>Europa</th>\n",
       "      <td>3122</td>\n",
       "      <td>48.0</td>\n",
       "    </tr>\n",
       "    <tr>\n",
       "      <th>Io</th>\n",
       "      <td>3643</td>\n",
       "      <td>89.3</td>\n",
       "    </tr>\n",
       "  </tbody>\n",
       "</table>\n",
       "</div>"
      ],
      "text/plain": [
       "          diameter   mass\n",
       "Callisto      4821  107.6\n",
       "Ganymede      5262  148.2\n",
       "Europa        3122   48.0\n",
       "Io            3643   89.3"
      ]
     },
     "execution_count": 65,
     "metadata": {},
     "output_type": "execute_result"
    }
   ],
   "source": [
    "moons = pd.DataFrame({'diameter':[4821, 5262, 3122, 3643],\n",
    "                  'mass':[107.6, 148.2, 48.0, 89.3]},\n",
    "                   index=['Callisto','Ganymede','Europa','Io'])\n",
    "moons"
   ]
  },
  {
   "cell_type": "code",
   "execution_count": 32,
   "metadata": {
    "collapsed": false,
    "deletable": true,
    "editable": true
   },
   "outputs": [
    {
     "data": {
      "text/html": [
       "<div>\n",
       "<table border=\"1\" class=\"dataframe\">\n",
       "  <thead>\n",
       "    <tr style=\"text-align: right;\">\n",
       "      <th></th>\n",
       "      <th>diameter</th>\n",
       "      <th>mass</th>\n",
       "    </tr>\n",
       "  </thead>\n",
       "  <tbody>\n",
       "    <tr>\n",
       "      <th>count</th>\n",
       "      <td>4.000000</td>\n",
       "      <td>4.000000</td>\n",
       "    </tr>\n",
       "    <tr>\n",
       "      <th>mean</th>\n",
       "      <td>4212.000000</td>\n",
       "      <td>98.275000</td>\n",
       "    </tr>\n",
       "    <tr>\n",
       "      <th>std</th>\n",
       "      <td>997.537301</td>\n",
       "      <td>41.583601</td>\n",
       "    </tr>\n",
       "    <tr>\n",
       "      <th>min</th>\n",
       "      <td>3122.000000</td>\n",
       "      <td>48.000000</td>\n",
       "    </tr>\n",
       "    <tr>\n",
       "      <th>25%</th>\n",
       "      <td>3512.750000</td>\n",
       "      <td>78.975000</td>\n",
       "    </tr>\n",
       "    <tr>\n",
       "      <th>50%</th>\n",
       "      <td>4232.000000</td>\n",
       "      <td>98.450000</td>\n",
       "    </tr>\n",
       "    <tr>\n",
       "      <th>75%</th>\n",
       "      <td>4931.250000</td>\n",
       "      <td>117.750000</td>\n",
       "    </tr>\n",
       "    <tr>\n",
       "      <th>max</th>\n",
       "      <td>5262.000000</td>\n",
       "      <td>148.200000</td>\n",
       "    </tr>\n",
       "  </tbody>\n",
       "</table>\n",
       "</div>"
      ],
      "text/plain": [
       "          diameter        mass\n",
       "count     4.000000    4.000000\n",
       "mean   4212.000000   98.275000\n",
       "std     997.537301   41.583601\n",
       "min    3122.000000   48.000000\n",
       "25%    3512.750000   78.975000\n",
       "50%    4232.000000   98.450000\n",
       "75%    4931.250000  117.750000\n",
       "max    5262.000000  148.200000"
      ]
     },
     "execution_count": 32,
     "metadata": {},
     "output_type": "execute_result"
    }
   ],
   "source": [
    "moons.describe()"
   ]
  },
  {
   "cell_type": "markdown",
   "metadata": {
    "deletable": true,
    "editable": true
   },
   "source": [
    "## Reading and writing Data Frames to files"
   ]
  },
  {
   "cell_type": "code",
   "execution_count": 33,
   "metadata": {
    "collapsed": true,
    "deletable": true,
    "editable": true
   },
   "outputs": [],
   "source": [
    "moons.to_csv('data.csv')"
   ]
  },
  {
   "cell_type": "code",
   "execution_count": 63,
   "metadata": {
    "collapsed": false,
    "deletable": true,
    "editable": true
   },
   "outputs": [
    {
     "data": {
      "text/html": [
       "<div>\n",
       "<table border=\"1\" class=\"dataframe\">\n",
       "  <thead>\n",
       "    <tr style=\"text-align: right;\">\n",
       "      <th></th>\n",
       "      <th>diameter</th>\n",
       "      <th>mass</th>\n",
       "    </tr>\n",
       "  </thead>\n",
       "  <tbody>\n",
       "    <tr>\n",
       "      <th>Callisto</th>\n",
       "      <td>4821</td>\n",
       "      <td>107.6</td>\n",
       "    </tr>\n",
       "    <tr>\n",
       "      <th>Ganymede</th>\n",
       "      <td>5262</td>\n",
       "      <td>148.2</td>\n",
       "    </tr>\n",
       "    <tr>\n",
       "      <th>Europa</th>\n",
       "      <td>3122</td>\n",
       "      <td>48.0</td>\n",
       "    </tr>\n",
       "    <tr>\n",
       "      <th>Io</th>\n",
       "      <td>3643</td>\n",
       "      <td>89.3</td>\n",
       "    </tr>\n",
       "  </tbody>\n",
       "</table>\n",
       "</div>"
      ],
      "text/plain": [
       "          diameter   mass\n",
       "Callisto      4821  107.6\n",
       "Ganymede      5262  148.2\n",
       "Europa        3122   48.0\n",
       "Io            3643   89.3"
      ]
     },
     "execution_count": 63,
     "metadata": {},
     "output_type": "execute_result"
    }
   ],
   "source": [
    "moons_from_file = pd.read_csv('data.csv', index_col=0)\n",
    "moons_from_file"
   ]
  },
  {
   "cell_type": "code",
   "execution_count": 66,
   "metadata": {
    "collapsed": false,
    "deletable": true,
    "editable": true
   },
   "outputs": [
    {
     "data": {
      "text/html": [
       "<div>\n",
       "<table border=\"1\" class=\"dataframe\">\n",
       "  <thead>\n",
       "    <tr style=\"text-align: right;\">\n",
       "      <th></th>\n",
       "      <th>diameter</th>\n",
       "      <th>mass</th>\n",
       "      <th>volume</th>\n",
       "    </tr>\n",
       "  </thead>\n",
       "  <tbody>\n",
       "    <tr>\n",
       "      <th>Callisto</th>\n",
       "      <td>4821</td>\n",
       "      <td>107.6</td>\n",
       "      <td>7572.809091</td>\n",
       "    </tr>\n",
       "    <tr>\n",
       "      <th>Ganymede</th>\n",
       "      <td>5262</td>\n",
       "      <td>148.2</td>\n",
       "      <td>8265.530272</td>\n",
       "    </tr>\n",
       "    <tr>\n",
       "      <th>Europa</th>\n",
       "      <td>3122</td>\n",
       "      <td>48.0</td>\n",
       "      <td>4904.026132</td>\n",
       "    </tr>\n",
       "    <tr>\n",
       "      <th>Io</th>\n",
       "      <td>3643</td>\n",
       "      <td>89.3</td>\n",
       "      <td>5722.411019</td>\n",
       "    </tr>\n",
       "  </tbody>\n",
       "</table>\n",
       "</div>"
      ],
      "text/plain": [
       "          diameter   mass       volume\n",
       "Callisto      4821  107.6  7572.809091\n",
       "Ganymede      5262  148.2  8265.530272\n",
       "Europa        3122   48.0  4904.026132\n",
       "Io            3643   89.3  5722.411019"
      ]
     },
     "execution_count": 66,
     "metadata": {},
     "output_type": "execute_result"
    }
   ],
   "source": [
    "import math\n",
    "moons['volume'] = (4/3)*math.pi*(moons['diameter']/2)\n",
    "moons"
   ]
  },
  {
   "cell_type": "code",
   "execution_count": 67,
   "metadata": {
    "collapsed": false
   },
   "outputs": [
    {
     "data": {
      "text/html": [
       "<div>\n",
       "<table border=\"1\" class=\"dataframe\">\n",
       "  <thead>\n",
       "    <tr style=\"text-align: right;\">\n",
       "      <th></th>\n",
       "      <th>diameter</th>\n",
       "      <th>mass</th>\n",
       "      <th>volume</th>\n",
       "      <th>density</th>\n",
       "    </tr>\n",
       "  </thead>\n",
       "  <tbody>\n",
       "    <tr>\n",
       "      <th>Callisto</th>\n",
       "      <td>4821</td>\n",
       "      <td>107.6</td>\n",
       "      <td>7572.809091</td>\n",
       "      <td>0.014209</td>\n",
       "    </tr>\n",
       "    <tr>\n",
       "      <th>Ganymede</th>\n",
       "      <td>5262</td>\n",
       "      <td>148.2</td>\n",
       "      <td>8265.530272</td>\n",
       "      <td>0.017930</td>\n",
       "    </tr>\n",
       "    <tr>\n",
       "      <th>Europa</th>\n",
       "      <td>3122</td>\n",
       "      <td>48.0</td>\n",
       "      <td>4904.026132</td>\n",
       "      <td>0.009788</td>\n",
       "    </tr>\n",
       "    <tr>\n",
       "      <th>Io</th>\n",
       "      <td>3643</td>\n",
       "      <td>89.3</td>\n",
       "      <td>5722.411019</td>\n",
       "      <td>0.015605</td>\n",
       "    </tr>\n",
       "  </tbody>\n",
       "</table>\n",
       "</div>"
      ],
      "text/plain": [
       "          diameter   mass       volume   density\n",
       "Callisto      4821  107.6  7572.809091  0.014209\n",
       "Ganymede      5262  148.2  8265.530272  0.017930\n",
       "Europa        3122   48.0  4904.026132  0.009788\n",
       "Io            3643   89.3  5722.411019  0.015605"
      ]
     },
     "execution_count": 67,
     "metadata": {},
     "output_type": "execute_result"
    }
   ],
   "source": [
    "moons['density'] = moons['mass']/moons['volume']\n",
    "moons"
   ]
  },
  {
   "cell_type": "code",
   "execution_count": 60,
   "metadata": {
    "collapsed": false,
    "deletable": true,
    "editable": true
   },
   "outputs": [],
   "source": [
    "moons.to_csv('data2.csv')"
   ]
  },
  {
   "cell_type": "markdown",
   "metadata": {
    "deletable": true,
    "editable": true
   },
   "source": [
    "# Plotting from a Data Frame"
   ]
  },
  {
   "cell_type": "code",
   "execution_count": 43,
   "metadata": {
    "collapsed": true,
    "deletable": true,
    "editable": true
   },
   "outputs": [],
   "source": [
    "%matplotlib inline\n",
    "import matplotlib.pyplot as plt"
   ]
  },
  {
   "cell_type": "code",
   "execution_count": 48,
   "metadata": {
    "collapsed": false,
    "deletable": true,
    "editable": true
   },
   "outputs": [
    {
     "data": {
      "text/plain": [
       "[('Ceres', 2.77),\n",
       " ('Pluto', 39.26),\n",
       " ('Haumea', 43.13),\n",
       " ('Makemake', 45.79),\n",
       " ('Eris', 68.01)]"
      ]
     },
     "execution_count": 48,
     "metadata": {},
     "output_type": "execute_result"
    }
   ],
   "source": [
    "names = ['Ceres', 'Pluto', 'Haumea', 'Makemake', 'Eris']\n",
    "distance = [2.77, 39.26, 43.13, 45.79, 68.01] #in AU\n",
    "dwarf_planets = list(zip(names, distance))\n",
    "dwarf_planets"
   ]
  },
  {
   "cell_type": "markdown",
   "metadata": {
    "deletable": true,
    "editable": true
   },
   "source": [
    "Convert the list of tuples into a Data Frame"
   ]
  },
  {
   "cell_type": "code",
   "execution_count": 50,
   "metadata": {
    "collapsed": false,
    "deletable": true,
    "editable": true
   },
   "outputs": [
    {
     "data": {
      "text/html": [
       "<div>\n",
       "<table border=\"1\" class=\"dataframe\">\n",
       "  <thead>\n",
       "    <tr style=\"text-align: right;\">\n",
       "      <th></th>\n",
       "      <th>name</th>\n",
       "      <th>distance</th>\n",
       "    </tr>\n",
       "  </thead>\n",
       "  <tbody>\n",
       "    <tr>\n",
       "      <th>0</th>\n",
       "      <td>Ceres</td>\n",
       "      <td>2.77</td>\n",
       "    </tr>\n",
       "    <tr>\n",
       "      <th>1</th>\n",
       "      <td>Pluto</td>\n",
       "      <td>39.26</td>\n",
       "    </tr>\n",
       "    <tr>\n",
       "      <th>2</th>\n",
       "      <td>Haumea</td>\n",
       "      <td>43.13</td>\n",
       "    </tr>\n",
       "    <tr>\n",
       "      <th>3</th>\n",
       "      <td>Makemake</td>\n",
       "      <td>45.79</td>\n",
       "    </tr>\n",
       "    <tr>\n",
       "      <th>4</th>\n",
       "      <td>Eris</td>\n",
       "      <td>68.01</td>\n",
       "    </tr>\n",
       "  </tbody>\n",
       "</table>\n",
       "</div>"
      ],
      "text/plain": [
       "       name  distance\n",
       "0     Ceres      2.77\n",
       "1     Pluto     39.26\n",
       "2    Haumea     43.13\n",
       "3  Makemake     45.79\n",
       "4      Eris     68.01"
      ]
     },
     "execution_count": 50,
     "metadata": {},
     "output_type": "execute_result"
    }
   ],
   "source": [
    "dp = pd.DataFrame(data=dwarf_planets, columns=['name', 'distance'])\n",
    "dp"
   ]
  },
  {
   "cell_type": "markdown",
   "metadata": {
    "deletable": true,
    "editable": true
   },
   "source": [
    "Plot the \"Values\" column"
   ]
  },
  {
   "cell_type": "code",
   "execution_count": 52,
   "metadata": {
    "collapsed": false,
    "deletable": true,
    "editable": true
   },
   "outputs": [
    {
     "data": {
      "image/png": "[encoded data removed]",
      "text/plain": [
       "<matplotlib.figure.Figure at 0x10f950710>"
      ]
     },
     "metadata": {},
     "output_type": "display_data"
    }
   ],
   "source": [
    "dp['distance'].plot()\n",
    "plt.show()"
   ]
  },
  {
   "cell_type": "code",
   "execution_count": null,
   "metadata": {
    "collapsed": true
   },
   "outputs": [],
   "source": []
  }
 ],
 "metadata": {
  "anaconda-cloud": {},
  "kernelspec": {
   "display_name": "Python 2",
   "language": "python",
   "name": "python2"
  },
  "language_info": {
   "codemirror_mode": {
    "name": "ipython",
    "version": 2
   },
   "file_extension": ".py",
   "mimetype": "text/x-python",
   "name": "python",
   "nbconvert_exporter": "python",
   "pygments_lexer": "ipython2",
   "version": "2.7.13"
  }
 },
 "nbformat": 4,
 "nbformat_minor": 1
}
